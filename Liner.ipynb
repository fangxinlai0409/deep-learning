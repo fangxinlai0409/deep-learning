{
 "cells": [
  {
   "cell_type": "code",
   "execution_count": 2,
   "metadata": {},
   "outputs": [
    {
     "data": {
      "image/png": "[encoded data removed]",
      "text/plain": [
       "<Figure size 432x288 with 1 Axes>"
      ]
     },
     "metadata": {
      "needs_background": "light"
     },
     "output_type": "display_data"
    }
   ],
   "source": [
    "import numpy as np\n",
    "import tensorflow as tf\n",
    "import matplotlib.pyplot as plt\n",
    "num_points=1000\n",
    "vectors_set=[]\n",
    "for i in range(num_points):\n",
    "    x1=np.random.normal(0.0,0.55)\n",
    "    y1=x1*0.1+0.3+np.random.normal(0.0,0.03)\n",
    "    vectors_set.append([x1,y1])\n",
    "x_data=[v[0] for v in vectors_set]\n",
    "y_data=[v[1] for v in vectors_set]\n",
    "plt.scatter(x_data,y_data,c='r')\n",
    "plt.show()"
   ]
  },
  {
   "cell_type": "code",
   "execution_count": 4,
   "metadata": {},
   "outputs": [
    {
     "name": "stdout",
     "output_type": "stream",
     "text": [
      "W= [0.4669025] b= [0.] loss= 0.13681641\n",
      "W= [0.34900025] b= [0.30969197] loss= 0.019219974\n",
      "W= [0.27483845] b= [0.3066003] loss= 0.009860062\n",
      "W= [0.2230008] b= [0.30465564] loss= 0.00528853\n",
      "W= [0.18677296] b= [0.30329636] loss= 0.0030556982\n",
      "W= [0.16145436] b= [0.30234638] loss= 0.001965135\n",
      "W= [0.14375992] b= [0.3016825] loss= 0.0014324813\n",
      "W= [0.13139379] b= [0.3012185] loss= 0.0011723222\n",
      "W= [0.12275145] b= [0.30089423] loss= 0.0010452548\n",
      "W= [0.11671157] b= [0.3006676] loss= 0.0009831924\n",
      "W= [0.11249047] b= [0.30050924] loss= 0.0009528798\n",
      "W= [0.10954046] b= [0.30039856] loss= 0.0009380745\n",
      "W= [0.10747878] b= [0.3003212] loss= 0.0009308431\n",
      "W= [0.10603794] b= [0.30026713] loss= 0.0009273112\n",
      "W= [0.10503097] b= [0.30022937] loss= 0.00092558615\n",
      "W= [0.10432723] b= [0.30020297] loss= 0.00092474365\n",
      "W= [0.10383541] b= [0.30018452] loss= 0.00092433207\n",
      "W= [0.10349169] b= [0.3001716] loss= 0.0009241311\n",
      "W= [0.10325147] b= [0.30016258] loss= 0.00092403294\n",
      "W= [0.10308359] b= [0.3001563] loss= 0.00092398503\n",
      "W= [0.10296626] b= [0.30015188] loss= 0.0009239615\n"
     ]
    }
   ],
   "source": [
    "W=tf.Variable(tf.random_uniform([1],-1.0,1.0),name='W')\n",
    "b=tf.Variable(tf.zeros([1]),name='b')\n",
    "y=W*x_data+b\n",
    "loss=tf.reduce_mean(tf.square(y-y_data),name='loss')\n",
    "optimizer=tf.train.GradientDescentOptimizer(0.5)\n",
    "train=optimizer.minimize(loss,name='train')\n",
    "sess=tf.Session()\n",
    "init=tf.global_variables_initializer()\n",
    "sess.run(init)\n",
    "\n",
    "print(\"W=\",sess.run(W),\"b=\",sess.run(b),\"loss=\",sess.run(loss))\n",
    "for step in range(20):\n",
    "    sess.run(train)\n",
    "    print(\"W=\",sess.run(W),\"b=\",sess.run(b),\"loss=\",sess.run(loss))"
   ]
  },
  {
   "cell_type": "code",
   "execution_count": null,
   "metadata": {},
   "outputs": [],
   "source": []
  }
 ],
 "metadata": {
  "kernelspec": {
   "display_name": "Python 3",
   "language": "python",
   "name": "python3"
  },
  "language_info": {
   "codemirror_mode": {
    "name": "ipython",
    "version": 3
   },
   "file_extension": ".py",
   "mimetype": "text/x-python",
   "name": "python",
   "nbconvert_exporter": "python",
   "pygments_lexer": "ipython3",
   "version": "3.7.3"
  }
 },
 "nbformat": 4,
 "nbformat_minor": 2
}
