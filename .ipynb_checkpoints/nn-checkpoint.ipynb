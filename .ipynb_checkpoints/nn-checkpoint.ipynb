{
 "cells": [
  {
   "cell_type": "code",
   "execution_count": 1,
   "metadata": {},
   "outputs": [],
   "source": [
    "import numpy as np\n",
    "import matplotlib.pyplot as plt\n",
    "import input_data\n",
    "import tensorflow as tf"
   ]
  },
  {
   "cell_type": "code",
   "execution_count": 2,
   "metadata": {},
   "outputs": [
    {
     "name": "stdout",
     "output_type": "stream",
     "text": [
      "WARNING:tensorflow:From <ipython-input-2-4339303960ba>:1: read_data_sets (from tensorflow.contrib.learn.python.learn.datasets.mnist) is deprecated and will be removed in a future version.\n",
      "Instructions for updating:\n",
      "Please use alternatives such as official/mnist/dataset.py from tensorflow/models.\n",
      "WARNING:tensorflow:From d:\\ProgramData\\Anaconda3\\lib\\site-packages\\tensorflow\\contrib\\learn\\python\\learn\\datasets\\mnist.py:260: maybe_download (from tensorflow.contrib.learn.python.learn.datasets.base) is deprecated and will be removed in a future version.\n",
      "Instructions for updating:\n",
      "Please write your own downloading logic.\n",
      "WARNING:tensorflow:From d:\\ProgramData\\Anaconda3\\lib\\site-packages\\tensorflow\\contrib\\learn\\python\\learn\\datasets\\mnist.py:262: extract_images (from tensorflow.contrib.learn.python.learn.datasets.mnist) is deprecated and will be removed in a future version.\n",
      "Instructions for updating:\n",
      "Please use tf.data to implement this functionality.\n",
      "Extracting data/train-images-idx3-ubyte.gz\n",
      "WARNING:tensorflow:From d:\\ProgramData\\Anaconda3\\lib\\site-packages\\tensorflow\\contrib\\learn\\python\\learn\\datasets\\mnist.py:267: extract_labels (from tensorflow.contrib.learn.python.learn.datasets.mnist) is deprecated and will be removed in a future version.\n",
      "Instructions for updating:\n",
      "Please use tf.data to implement this functionality.\n",
      "Extracting data/train-labels-idx1-ubyte.gz\n",
      "WARNING:tensorflow:From d:\\ProgramData\\Anaconda3\\lib\\site-packages\\tensorflow\\contrib\\learn\\python\\learn\\datasets\\mnist.py:110: dense_to_one_hot (from tensorflow.contrib.learn.python.learn.datasets.mnist) is deprecated and will be removed in a future version.\n",
      "Instructions for updating:\n",
      "Please use tf.one_hot on tensors.\n",
      "Extracting data/t10k-images-idx3-ubyte.gz\n",
      "Extracting data/t10k-labels-idx1-ubyte.gz\n",
      "WARNING:tensorflow:From d:\\ProgramData\\Anaconda3\\lib\\site-packages\\tensorflow\\contrib\\learn\\python\\learn\\datasets\\mnist.py:290: DataSet.__init__ (from tensorflow.contrib.learn.python.learn.datasets.mnist) is deprecated and will be removed in a future version.\n",
      "Instructions for updating:\n",
      "Please use alternatives such as official/mnist/dataset.py from tensorflow/models.\n"
     ]
    }
   ],
   "source": [
    "mnist=input_data.read_data_sets('data/',one_hot=True)"
   ]
  },
  {
   "cell_type": "code",
   "execution_count": 4,
   "metadata": {},
   "outputs": [
    {
     "name": "stdout",
     "output_type": "stream",
     "text": [
      "NETWORK READY\n"
     ]
    }
   ],
   "source": [
    "n_hidden_1=256\n",
    "n_hidden_2=128\n",
    "n_input=784\n",
    "n_classes=10\n",
    "\n",
    "x=tf.placeholder(\"float\",[None,n_input])\n",
    "y=tf.placeholder(\"float\",[None,n_classes])\n",
    "stddev=0.1\n",
    "weights={\n",
    "    'w1':tf.Variable(tf.random_normal([n_input,n_hidden_1],stddev=stddev)),\n",
    "     'w2':tf.Variable(tf.random_normal([n_hidden_1,n_hidden_2],stddev=stddev)),\n",
    "     'out':tf.Variable(tf.random_normal([n_hidden_2,n_classes],stddev=stddev))\n",
    "    }\n",
    "biases={\n",
    "    'b1':tf.Variable(tf.random_normal([n_hidden_1])),\n",
    "     'b2':tf.Variable(tf.random_normal([n_hidden_2])),\n",
    "     'out':tf.Variable(tf.random_normal([n_classes]))\n",
    "    }\n",
    "print(\"NETWORK READY\")"
   ]
  },
  {
   "cell_type": "code",
   "execution_count": 8,
   "metadata": {},
   "outputs": [],
   "source": [
    "def multilayer_perception(_X,_weights,_biases):\n",
    "    layer_1=tf.nn.sigmoid(tf.add(tf.matmul(_X,_weights['w1']),_biases['b1']))\n",
    "    layer_2=tf.nn.sigmoid(tf.add(tf.matmul(layer_1,_weights['w2']),_biases['b2']))\n",
    "    return (tf.matmul(layer_2,_weights['out'])+_biases['out'])"
   ]
  },
  {
   "cell_type": "code",
   "execution_count": 9,
   "metadata": {},
   "outputs": [
    {
     "name": "stdout",
     "output_type": "stream",
     "text": [
      "FUNCTIONS READY\n"
     ]
    }
   ],
   "source": [
    "pred=multilayer_perception(x,weights,biases)\n",
    "cost=tf.reduce_mean(tf.nn.softmax_cross_entropy_with_logits(logits=pred,labels=y))\n",
    "optm=tf.train.GradientDescentOptimizer(learning_rate=0.001).minimize(cost)\n",
    "corr=tf.equal(tf.argmax(pred,1),tf.argmax(y,1))\n",
    "accr=tf.reduce_mean(tf.cast(corr,\"float\"))\n",
    "\n",
    "init=tf.global_variables_initializer()\n",
    "\n",
    "print(\"FUNCTIONS READY\")"
   ]
  },
  {
   "cell_type": "code",
   "execution_count": 12,
   "metadata": {},
   "outputs": [
    {
     "name": "stdout",
     "output_type": "stream",
     "text": [
      "epoch: 003/020 cost:2.279165700\n",
      "Train accuracy:0.150\n",
      "Test accuracy:0.194\n",
      "epoch: 007/020 cost:2.239021932\n",
      "Train accuracy:0.310\n",
      "Test accuracy:0.306\n",
      "epoch: 011/020 cost:2.195518062\n",
      "Train accuracy:0.440\n",
      "Test accuracy:0.429\n",
      "epoch: 015/020 cost:2.145791893\n",
      "Train accuracy:0.470\n",
      "Test accuracy:0.494\n",
      "epoch: 019/020 cost:2.087302993\n",
      "Train accuracy:0.520\n",
      "Test accuracy:0.547\n",
      "OPTIMIZATION FINISHED\n"
     ]
    }
   ],
   "source": [
    "train_epochs=20\n",
    "batch_size=100\n",
    "display_step=4\n",
    "sess=tf.Session()\n",
    "sess.run(init)\n",
    "for epoch in range(train_epochs):\n",
    "    avg_cost=0.\n",
    "    total_batch=int(mnist.train.num_examples/batch_size)\n",
    "    for i in range(total_batch):\n",
    "        batch_xs,batch_ys=mnist.train.next_batch(batch_size)\n",
    "        feeds={x:batch_xs,y:batch_ys}\n",
    "        sess.run(optm,feed_dict=feeds)\n",
    "        avg_cost+=sess.run(cost,feed_dict=feeds)\n",
    "    avg_cost=avg_cost/total_batch\n",
    "    if (epoch+1)%display_step==0:\n",
    "        print(\"epoch: %03d/%03d cost:%.9f\"%(epoch,train_epochs,avg_cost))\n",
    "        feeds={x:batch_xs,y:batch_ys}\n",
    "        train_acc=sess.run(accr,feed_dict=feeds)\n",
    "        print(\"Train accuracy:%.3f\"%(train_acc))\n",
    "        feeds={x:mnist.test.images,y:mnist.test.labels}\n",
    "        test_acc=sess.run(accr,feed_dict=feeds)\n",
    "        print(\"Test accuracy:%.3f\"%(test_acc))\n",
    "print(\"OPTIMIZATION FINISHED\")"
   ]
  },
  {
   "cell_type": "code",
   "execution_count": null,
   "metadata": {},
   "outputs": [],
   "source": []
  }
 ],
 "metadata": {
  "kernelspec": {
   "display_name": "Python 3",
   "language": "python",
   "name": "python3"
  },
  "language_info": {
   "codemirror_mode": {
    "name": "ipython",
    "version": 3
   },
   "file_extension": ".py",
   "mimetype": "text/x-python",
   "name": "python",
   "nbconvert_exporter": "python",
   "pygments_lexer": "ipython3",
   "version": "3.7.3"
  }
 },
 "nbformat": 4,
 "nbformat_minor": 2
}
