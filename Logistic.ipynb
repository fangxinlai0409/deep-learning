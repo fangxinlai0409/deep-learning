{
 "cells": [
  {
   "cell_type": "code",
   "execution_count": 2,
   "metadata": {},
   "outputs": [
    {
     "name": "stdout",
     "output_type": "stream",
     "text": [
      "WARNING:tensorflow:From <ipython-input-2-2faf151f6236>:5: read_data_sets (from tensorflow.contrib.learn.python.learn.datasets.mnist) is deprecated and will be removed in a future version.\n",
      "Instructions for updating:\n",
      "Please use alternatives such as official/mnist/dataset.py from tensorflow/models.\n",
      "WARNING:tensorflow:From d:\\ProgramData\\Anaconda3\\lib\\site-packages\\tensorflow\\contrib\\learn\\python\\learn\\datasets\\mnist.py:260: maybe_download (from tensorflow.contrib.learn.python.learn.datasets.base) is deprecated and will be removed in a future version.\n",
      "Instructions for updating:\n",
      "Please write your own downloading logic.\n",
      "WARNING:tensorflow:From d:\\ProgramData\\Anaconda3\\lib\\site-packages\\tensorflow\\contrib\\learn\\python\\learn\\datasets\\mnist.py:262: extract_images (from tensorflow.contrib.learn.python.learn.datasets.mnist) is deprecated and will be removed in a future version.\n",
      "Instructions for updating:\n",
      "Please use tf.data to implement this functionality.\n",
      "Extracting data/train-images-idx3-ubyte.gz\n",
      "WARNING:tensorflow:From d:\\ProgramData\\Anaconda3\\lib\\site-packages\\tensorflow\\contrib\\learn\\python\\learn\\datasets\\mnist.py:267: extract_labels (from tensorflow.contrib.learn.python.learn.datasets.mnist) is deprecated and will be removed in a future version.\n",
      "Instructions for updating:\n",
      "Please use tf.data to implement this functionality.\n",
      "Extracting data/train-labels-idx1-ubyte.gz\n",
      "WARNING:tensorflow:From d:\\ProgramData\\Anaconda3\\lib\\site-packages\\tensorflow\\contrib\\learn\\python\\learn\\datasets\\mnist.py:110: dense_to_one_hot (from tensorflow.contrib.learn.python.learn.datasets.mnist) is deprecated and will be removed in a future version.\n",
      "Instructions for updating:\n",
      "Please use tf.one_hot on tensors.\n",
      "Extracting data/t10k-images-idx3-ubyte.gz\n",
      "Extracting data/t10k-labels-idx1-ubyte.gz\n",
      "WARNING:tensorflow:From d:\\ProgramData\\Anaconda3\\lib\\site-packages\\tensorflow\\contrib\\learn\\python\\learn\\datasets\\mnist.py:290: DataSet.__init__ (from tensorflow.contrib.learn.python.learn.datasets.mnist) is deprecated and will be removed in a future version.\n",
      "Instructions for updating:\n",
      "Please use alternatives such as official/mnist/dataset.py from tensorflow/models.\n"
     ]
    }
   ],
   "source": [
    "import numpy as np\n",
    "import matplotlib.pyplot as plt \n",
    "import tensorflow as tf\n",
    "import input_data\n",
    "mnist=input_data.read_data_sets(\"data/\",one_hot=True)\n",
    "\n",
    "trainimg=mnist.train.images\n",
    "trainlabel=mnist.train.labels\n",
    "testimg=mnist.test.images\n",
    "testlabel=mnist.test.labels"
   ]
  },
  {
   "cell_type": "code",
   "execution_count": 4,
   "metadata": {},
   "outputs": [],
   "source": [
    "x=tf.placeholder(\"float\",[None,784])\n",
    "y=tf.placeholder(\"float\",[None,10])\n",
    "W=tf.Variable(tf.zeros([784,10]))\n",
    "b=tf.Variable(tf.zeros([10]))\n",
    "actv=tf.nn.softmax(tf.matmul(x,W)+b)\n",
    "cost=tf.reduce_mean(-tf.reduce_sum(y*tf.log(actv),reduction_indices=1))\n",
    "learning_rate=0.01\n",
    "optm=tf.train.GradientDescentOptimizer(learning_rate).minimize(cost)"
   ]
  },
  {
   "cell_type": "code",
   "execution_count": 6,
   "metadata": {},
   "outputs": [],
   "source": [
    "pred=tf.equal(tf.argmax(actv,1),tf.argmax(y,1))\n",
    "accr=tf.reduce_mean(tf.cast(pred,\"float\"))\n",
    "init=tf.global_variables_initializer()"
   ]
  },
  {
   "cell_type": "code",
   "execution_count": 7,
   "metadata": {},
   "outputs": [
    {
     "name": "stdout",
     "output_type": "stream",
     "text": [
      "Epoch:000/050 cost:1.177006233 train_acc: 0.840 test_acc:0.853\n",
      "Epoch:005/050 cost:0.440901342 train_acc: 0.840 test_acc:0.895\n",
      "Epoch:010/050 cost:0.383324200 train_acc: 0.910 test_acc:0.905\n",
      "Epoch:015/050 cost:0.357299447 train_acc: 0.890 test_acc:0.909\n",
      "Epoch:020/050 cost:0.341472479 train_acc: 0.860 test_acc:0.912\n",
      "Epoch:025/050 cost:0.330530962 train_acc: 0.910 test_acc:0.914\n",
      "Epoch:030/050 cost:0.322362450 train_acc: 0.910 test_acc:0.916\n",
      "Epoch:035/050 cost:0.315954624 train_acc: 0.920 test_acc:0.917\n",
      "Epoch:040/050 cost:0.310733743 train_acc: 0.880 test_acc:0.918\n",
      "Epoch:045/050 cost:0.306344511 train_acc: 0.850 test_acc:0.919\n",
      "DONE\n"
     ]
    }
   ],
   "source": [
    "training_epochs=50\n",
    "batch_size=100\n",
    "display_step=5\n",
    "sess=tf.Session()\n",
    "sess.run(init)\n",
    "for epoch in range(training_epochs):\n",
    "    avg_cost=0.\n",
    "    num_batch=int(mnist.train.num_examples/batch_size)\n",
    "    for i in range(num_batch):\n",
    "        batch_xs,batch_ys=mnist.train.next_batch(batch_size)\n",
    "        sess.run(optm,feed_dict={x:batch_xs,y:batch_ys})\n",
    "        feeds={x:batch_xs,y:batch_ys}\n",
    "        avg_cost+=sess.run(cost,feed_dict=feeds)/num_batch\n",
    "    if epoch % display_step ==0:\n",
    "        feeds_train={x:batch_xs,y:batch_ys}\n",
    "        feeds_test={x:mnist.test.images,y:mnist.test.labels}\n",
    "        train_acc=sess.run(accr,feed_dict=feeds_train)\n",
    "        test_acc=sess.run(accr,feed_dict=feeds_test)\n",
    "        print(\"Epoch:%03d/%03d cost:%.9f train_acc: %.3f test_acc:%.3f\"\n",
    "             % (epoch,training_epochs,avg_cost,train_acc,test_acc))\n",
    "print (\"DONE\")"
   ]
  },
  {
   "cell_type": "code",
   "execution_count": null,
   "metadata": {},
   "outputs": [],
   "source": []
  }
 ],
 "metadata": {
  "kernelspec": {
   "display_name": "Python 3",
   "language": "python",
   "name": "python3"
  },
  "language_info": {
   "codemirror_mode": {
    "name": "ipython",
    "version": 3
   },
   "file_extension": ".py",
   "mimetype": "text/x-python",
   "name": "python",
   "nbconvert_exporter": "python",
   "pygments_lexer": "ipython3",
   "version": "3.7.3"
  }
 },
 "nbformat": 4,
 "nbformat_minor": 2
}
